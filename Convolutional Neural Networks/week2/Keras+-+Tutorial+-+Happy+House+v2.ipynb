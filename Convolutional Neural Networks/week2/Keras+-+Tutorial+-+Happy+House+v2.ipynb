{
 "cells": [
  {
   "cell_type": "markdown",
   "metadata": {},
   "source": [
    "# Keras tutorial - the Happy House\n",
    "\n",
    "Welcome to the first assignment of week 2. In this assignment, you will:\n",
    "1. Learn to use Keras, a high-level neural networks API (programming framework), written in Python and capable of running on top of several lower-level frameworks including TensorFlow and CNTK. \n",
    "2. See how you can in a couple of hours build a deep learning algorithm.\n",
    "\n",
    "Why are we using Keras? Keras was developed to enable deep learning engineers to build and experiment with different models very quickly. Just as TensorFlow is a higher-level framework than Python, Keras is an even higher-level framework and provides additional abstractions. Being able to go from idea to result with the least possible delay is key to finding good models. However, Keras is more restrictive than the lower-level frameworks, so there are some very complex models that you can implement in TensorFlow but not (without more difficulty) in Keras. That being said, Keras will work fine for many common models. \n",
    "\n",
    "In this exercise, you'll work on the \"Happy House\" problem, which we'll explain below. Let's load the required packages and solve the problem of the Happy House!"
   ]
  },
  {
   "cell_type": "code",
   "execution_count": 1,
   "metadata": {},
   "outputs": [
    {
     "name": "stderr",
     "output_type": "stream",
     "text": [
      "Using TensorFlow backend.\n"
     ]
    }
   ],
   "source": [
    "import numpy as np\n",
    "from keras import layers\n",
    "from keras.layers import Input, Dense, Activation, ZeroPadding2D, BatchNormalization, Flatten, Conv2D\n",
    "from keras.layers import AveragePooling2D, MaxPooling2D, Dropout, GlobalMaxPooling2D, GlobalAveragePooling2D\n",
    "from keras.models import Model\n",
    "from keras.preprocessing import image\n",
    "from keras.utils import layer_utils\n",
    "from keras.utils.data_utils import get_file\n",
    "from keras.applications.imagenet_utils import preprocess_input\n",
    "import pydot\n",
    "from IPython.display import SVG\n",
    "from keras.utils.vis_utils import model_to_dot\n",
    "from keras.utils import plot_model\n",
    "from kt_utils import *\n",
    "\n",
    "import keras.backend as K\n",
    "K.set_image_data_format('channels_last')\n",
    "import matplotlib.pyplot as plt\n",
    "from matplotlib.pyplot import imshow\n",
    "\n",
    "%matplotlib inline"
   ]
  },
  {
   "cell_type": "markdown",
   "metadata": {},
   "source": [
    "**Note**: As you can see, we've imported a lot of functions from Keras. You can use them easily just by calling them directly in the notebook. Ex: `X = Input(...)` or `X = ZeroPadding2D(...)`."
   ]
  },
  {
   "cell_type": "markdown",
   "metadata": {},
   "source": [
    "## 1 - The Happy House \n",
    "\n",
    "For your next vacation, you decided to spend a week with five of your friends from school. It is a very convenient house with many things to do nearby. But the most important benefit is that everybody has commited to be happy when they are in the house. So anyone wanting to enter the house must prove their current state of happiness.\n",
    "\n",
    "<img src=\"images/happy-house.jpg\" style=\"width:350px;height:270px;\">\n",
    "<caption><center> <u> <font color='purple'> **Figure 1** </u><font color='purple'>  : **the Happy House**</center></caption>\n",
    "\n",
    "\n",
    "As a deep learning expert, to make sure the \"Happy\" rule is strictly applied, you are going to build an algorithm which that uses pictures from the front door camera to check if the person is happy or not. The door should open only if the person is happy. \n",
    "\n",
    "You have gathered pictures of your friends and yourself, taken by the front-door camera. The dataset is labbeled. \n",
    "\n",
    "<img src=\"images/house-members.png\" style=\"width:550px;height:250px;\">\n",
    "\n",
    "Run the following code to normalize the dataset and learn about its shapes."
   ]
  },
  {
   "cell_type": "code",
   "execution_count": 2,
   "metadata": {},
   "outputs": [
    {
     "name": "stdout",
     "output_type": "stream",
     "text": [
      "number of training examples = 600\n",
      "number of test examples = 150\n",
      "X_train shape: (600, 64, 64, 3)\n",
      "Y_train shape: (600, 1)\n",
      "X_test shape: (150, 64, 64, 3)\n",
      "Y_test shape: (150, 1)\n"
     ]
    }
   ],
   "source": [
    "X_train_orig, Y_train_orig, X_test_orig, Y_test_orig, classes = load_dataset()\n",
    "\n",
    "# Normalize image vectors\n",
    "X_train = X_train_orig/255.\n",
    "X_test = X_test_orig/255.\n",
    "\n",
    "# Reshape\n",
    "Y_train = Y_train_orig.T\n",
    "Y_test = Y_test_orig.T\n",
    "\n",
    "print (\"number of training examples = \" + str(X_train.shape[0]))\n",
    "print (\"number of test examples = \" + str(X_test.shape[0]))\n",
    "print (\"X_train shape: \" + str(X_train.shape))\n",
    "print (\"Y_train shape: \" + str(Y_train.shape))\n",
    "print (\"X_test shape: \" + str(X_test.shape))\n",
    "print (\"Y_test shape: \" + str(Y_test.shape))"
   ]
  },
  {
   "cell_type": "markdown",
   "metadata": {},
   "source": [
    "**Details of the \"Happy\" dataset**:\n",
    "- Images are of shape (64,64,3)\n",
    "- Training: 600 pictures\n",
    "- Test: 150 pictures\n",
    "\n",
    "It is now time to solve the \"Happy\" Challenge."
   ]
  },
  {
   "cell_type": "markdown",
   "metadata": {},
   "source": [
    "## 2 - Building a model in Keras\n",
    "\n",
    "Keras is very good for rapid prototyping. In just a short time you will be able to build a model that achieves outstanding results.\n",
    "\n",
    "Here is an example of a model in Keras:\n",
    "\n",
    "```python\n",
    "def model(input_shape):\n",
    "    # Define the input placeholder as a tensor with shape input_shape. Think of this as your input image!\n",
    "    X_input = Input(input_shape)\n",
    "\n",
    "    # Zero-Padding: pads the border of X_input with zeroes\n",
    "    X = ZeroPadding2D((3, 3))(X_input)\n",
    "\n",
    "    # CONV -> BN -> RELU Block applied to X\n",
    "    X = Conv2D(32, (7, 7), strides = (1, 1), name = 'conv0')(X)\n",
    "    X = BatchNormalization(axis = 3, name = 'bn0')(X)\n",
    "    X = Activation('relu')(X)\n",
    "\n",
    "    # MAXPOOL\n",
    "    X = MaxPooling2D((2, 2), name='max_pool')(X)\n",
    "\n",
    "    # FLATTEN X (means convert it to a vector) + FULLYCONNECTED\n",
    "    X = Flatten()(X)\n",
    "    X = Dense(1, activation='sigmoid', name='fc')(X)\n",
    "\n",
    "    # Create model. This creates your Keras model instance, you'll use this instance to train/test the model.\n",
    "    model = Model(inputs = X_input, outputs = X, name='HappyModel')\n",
    "    \n",
    "    return model\n",
    "```\n",
    "\n",
    "Note that Keras uses a different convention with variable names than we've previously used with numpy and TensorFlow. In particular, rather than creating and assigning a new variable on each step of forward propagation such as `X`, `Z1`, `A1`, `Z2`, `A2`, etc. for the computations for the different layers, in Keras code each line above just reassigns `X` to a new value using `X = ...`. In other words, during each step of forward propagation, we are just writing the latest value in the commputation into the same variable `X`. The only exception was `X_input`, which we kept separate and did not overwrite, since we needed it at the end to create the Keras model instance (`model = Model(inputs = X_input, ...)` above). \n",
    "\n",
    "**Exercise**: Implement a `HappyModel()`. This assignment is more open-ended than most. We suggest that you start by implementing a model using the architecture we suggest, and run through the rest of this assignment using that as your initial model. But after that, come back and take initiative to try out other model architectures. For example, you might take inspiration from the model above, but then vary the network architecture and hyperparameters however you wish. You can also use other functions such as `AveragePooling2D()`, `GlobalMaxPooling2D()`, `Dropout()`. \n",
    "\n",
    "**Note**: You have to be careful with your data's shapes. Use what you've learned in the videos to make sure your convolutional, pooling and fully-connected layers are adapted to the volumes you're applying it to."
   ]
  },
  {
   "cell_type": "code",
   "execution_count": 3,
   "metadata": {
    "collapsed": true
   },
   "outputs": [],
   "source": [
    "# GRADED FUNCTION: HappyModel\n",
    "\n",
    "def HappyModel(input_shape):\n",
    "    \"\"\"\n",
    "    Implementation of the HappyModel.\n",
    "    \n",
    "    Arguments:\n",
    "    input_shape -- shape of the images of the dataset\n",
    "\n",
    "    Returns:\n",
    "    model -- a Model() instance in Keras\n",
    "    \"\"\"\n",
    "    \n",
    "    ### START CODE HERE ###\n",
    "    # Feel free to use the suggested outline in the text above to get started, and run through the whole\n",
    "    # exercise (including the later portions of this notebook) once. The come back also try out other\n",
    "    # network architectures as well. \n",
    "    \n",
    "    X_input = Input(input_shape)\n",
    "\n",
    "    '''\n",
    "    # Zero-Padding: pads the border of X_input with zeroes\n",
    "    X = ZeroPadding2D((3, 3))(X_input)\n",
    "\n",
    "    # CONV -> BN -> RELU Block applied to X\n",
    "    X = Conv2D(32, (7, 7), strides = (1, 1), name = 'conv0')(X)\n",
    "    X = BatchNormalization(axis = 3, name = 'bn0')(X)\n",
    "    X = Activation('relu')(X)\n",
    "\n",
    "    # MAXPOOL\n",
    "    X = MaxPooling2D((2, 2), name='max_pool')(X)\n",
    "\n",
    "    # FLATTEN X (means convert it to a vector) + FULLYCONNECTED\n",
    "    X = Flatten()(X)\n",
    "    X = Dense(1, activation='sigmoid', name='fc')(X)\n",
    "    '''\n",
    "    \n",
    "    X = Conv2D(filters=16, kernel_size=(5, 5), padding='same', name='conv0')(X_input)\n",
    "    X = BatchNormalization(axis = 3, name = 'bn0')(X)\n",
    "    X = Activation('relu')(X)\n",
    "    \n",
    "    # 32, 32, 32\n",
    "    X = MaxPooling2D((2, 2), name='max_pool0')(X)\n",
    "    \n",
    "    X = Conv2D(filters=32, kernel_size=(5, 5), padding='same', name='conv1')(X)\n",
    "    X = BatchNormalization(axis = 3, name = 'bn1')(X)\n",
    "    X = Activation('relu')(X)\n",
    "    \n",
    "    # 16, 16, 64\n",
    "    X = MaxPooling2D((2, 2), name='max_pool1')(X)\n",
    "    \n",
    "    X = Flatten()(X)\n",
    "    X = Dropout(0.2)(X)\n",
    "    X = Dense(16, activation='relu', name='fc0')(X)\n",
    "    \n",
    "    X = Dropout(0.2)(X)\n",
    "    X = Dense(1, activation='sigmoid', name='fc1')(X)\n",
    "\n",
    "    # Create model. This creates your Keras model instance, you'll use this instance to train/test the model.\n",
    "    model = Model(inputs = X_input, outputs = X, name='HappyModel')\n",
    "    \n",
    "    \n",
    "    ### END CODE HERE ###\n",
    "    \n",
    "    return model"
   ]
  },
  {
   "cell_type": "markdown",
   "metadata": {},
   "source": [
    "You have now built a function to describe your model. To train and test this model, there are four steps in Keras:\n",
    "1. Create the model by calling the function above\n",
    "2. Compile the model by calling `model.compile(optimizer = \"...\", loss = \"...\", metrics = [\"accuracy\"])`\n",
    "3. Train the model on train data by calling `model.fit(x = ..., y = ..., epochs = ..., batch_size = ...)`\n",
    "4. Test the model on test data by calling `model.evaluate(x = ..., y = ...)`\n",
    "\n",
    "If you want to know more about `model.compile()`, `model.fit()`, `model.evaluate()` and their arguments, refer to the official [Keras documentation](https://keras.io/models/model/).\n",
    "\n",
    "**Exercise**: Implement step 1, i.e. create the model."
   ]
  },
  {
   "cell_type": "code",
   "execution_count": 4,
   "metadata": {},
   "outputs": [],
   "source": [
    "### START CODE HERE ### (1 line)\n",
    "happyModel = HappyModel(((64, 64, 3)))\n",
    "### END CODE HERE ###"
   ]
  },
  {
   "cell_type": "markdown",
   "metadata": {},
   "source": [
    "**Exercise**: Implement step 2, i.e. compile the model to configure the learning process. Choose the 3 arguments of `compile()` wisely. Hint: the Happy Challenge is a binary classification problem."
   ]
  },
  {
   "cell_type": "code",
   "execution_count": 5,
   "metadata": {
    "collapsed": true
   },
   "outputs": [],
   "source": [
    "### START CODE HERE ### (1 line)\n",
    "happyModel.compile(optimizer = \"Adam\", loss = \"binary_crossentropy\", metrics = [\"accuracy\"])\n",
    "### END CODE HERE ###"
   ]
  },
  {
   "cell_type": "markdown",
   "metadata": {},
   "source": [
    "**Exercise**: Implement step 3, i.e. train the model. Choose the number of epochs and the batch size."
   ]
  },
  {
   "cell_type": "code",
   "execution_count": 7,
   "metadata": {},
   "outputs": [
    {
     "name": "stdout",
     "output_type": "stream",
     "text": [
      "Epoch 1/40\n",
      "600/600 [==============================] - 11s - loss: 0.7117 - acc: 0.6017    \n",
      "Epoch 2/40\n",
      "600/600 [==============================] - 11s - loss: 0.5209 - acc: 0.6717    \n",
      "Epoch 3/40\n",
      "600/600 [==============================] - 10s - loss: 0.4360 - acc: 0.7350    \n",
      "Epoch 4/40\n",
      "600/600 [==============================] - 10s - loss: 0.3350 - acc: 0.8300    \n",
      "Epoch 5/40\n",
      "600/600 [==============================] - 10s - loss: 0.2904 - acc: 0.8550    \n",
      "Epoch 6/40\n",
      "600/600 [==============================] - 10s - loss: 0.2965 - acc: 0.8550    \n",
      "Epoch 7/40\n",
      "600/600 [==============================] - 10s - loss: 0.2886 - acc: 0.8650    \n",
      "Epoch 8/40\n",
      "600/600 [==============================] - 10s - loss: 0.2562 - acc: 0.8833    \n",
      "Epoch 9/40\n",
      "600/600 [==============================] - 10s - loss: 0.2383 - acc: 0.9117    \n",
      "Epoch 10/40\n",
      "600/600 [==============================] - 10s - loss: 0.2312 - acc: 0.8983    \n",
      "Epoch 11/40\n",
      "600/600 [==============================] - 10s - loss: 0.2002 - acc: 0.9233    \n",
      "Epoch 12/40\n",
      "600/600 [==============================] - 10s - loss: 0.1770 - acc: 0.9150    \n",
      "Epoch 13/40\n",
      "600/600 [==============================] - 10s - loss: 0.2013 - acc: 0.9217    \n",
      "Epoch 14/40\n",
      "600/600 [==============================] - 10s - loss: 0.1912 - acc: 0.9233    \n",
      "Epoch 15/40\n",
      "600/600 [==============================] - 10s - loss: 0.1595 - acc: 0.9283    \n",
      "Epoch 16/40\n",
      "600/600 [==============================] - 10s - loss: 0.1947 - acc: 0.9083    \n",
      "Epoch 17/40\n",
      "600/600 [==============================] - 10s - loss: 0.1670 - acc: 0.9417    \n",
      "Epoch 18/40\n",
      "600/600 [==============================] - 10s - loss: 0.1447 - acc: 0.9417    \n",
      "Epoch 19/40\n",
      "600/600 [==============================] - 10s - loss: 0.1372 - acc: 0.9483    \n",
      "Epoch 20/40\n",
      "600/600 [==============================] - 11s - loss: 0.1100 - acc: 0.9600    \n",
      "Epoch 21/40\n",
      "600/600 [==============================] - 11s - loss: 0.1322 - acc: 0.9433    \n",
      "Epoch 22/40\n",
      "600/600 [==============================] - 11s - loss: 0.1241 - acc: 0.9500    \n",
      "Epoch 23/40\n",
      "600/600 [==============================] - 11s - loss: 0.1447 - acc: 0.9483    \n",
      "Epoch 24/40\n",
      "600/600 [==============================] - 11s - loss: 0.1111 - acc: 0.9583    \n",
      "Epoch 25/40\n",
      "600/600 [==============================] - 11s - loss: 0.1231 - acc: 0.9500    \n",
      "Epoch 26/40\n",
      "600/600 [==============================] - 11s - loss: 0.1178 - acc: 0.9567    \n",
      "Epoch 27/40\n",
      "600/600 [==============================] - 10s - loss: 0.1427 - acc: 0.9550    \n",
      "Epoch 28/40\n",
      "600/600 [==============================] - 10s - loss: 0.1268 - acc: 0.9583    \n",
      "Epoch 29/40\n",
      "600/600 [==============================] - 11s - loss: 0.1177 - acc: 0.9667    \n",
      "Epoch 30/40\n",
      "600/600 [==============================] - 11s - loss: 0.1283 - acc: 0.9617    \n",
      "Epoch 31/40\n",
      "600/600 [==============================] - 11s - loss: 0.0923 - acc: 0.9750    \n",
      "Epoch 32/40\n",
      "600/600 [==============================] - 10s - loss: 0.1267 - acc: 0.9650    \n",
      "Epoch 33/40\n",
      "600/600 [==============================] - 11s - loss: 0.1308 - acc: 0.9533    \n",
      "Epoch 34/40\n",
      "600/600 [==============================] - 11s - loss: 0.1152 - acc: 0.9633    \n",
      "Epoch 35/40\n",
      "600/600 [==============================] - 10s - loss: 0.1067 - acc: 0.9633    \n",
      "Epoch 36/40\n",
      "600/600 [==============================] - 10s - loss: 0.1140 - acc: 0.9683    \n",
      "Epoch 37/40\n",
      "600/600 [==============================] - 11s - loss: 0.0845 - acc: 0.9767    \n",
      "Epoch 38/40\n",
      "600/600 [==============================] - 11s - loss: 0.0955 - acc: 0.9700    \n",
      "Epoch 39/40\n",
      "600/600 [==============================] - 11s - loss: 0.0983 - acc: 0.9633    \n",
      "Epoch 40/40\n",
      "600/600 [==============================] - 11s - loss: 0.0897 - acc: 0.9667    \n"
     ]
    },
    {
     "data": {
      "text/plain": [
       "<keras.callbacks.History at 0x7f58e3fbbda0>"
      ]
     },
     "execution_count": 7,
     "metadata": {},
     "output_type": "execute_result"
    }
   ],
   "source": [
    "### START CODE HERE ### (1 line)\n",
    "happyModel.fit(x = X_train, y = Y_train, epochs = 40, batch_size = 32)\n",
    "### END CODE HERE ###"
   ]
  },
  {
   "cell_type": "markdown",
   "metadata": {},
   "source": [
    "Note that if you run `fit()` again, the `model` will continue to train with the parameters it has already learnt instead of reinitializing them.\n",
    "\n",
    "**Exercise**: Implement step 4, i.e. test/evaluate the model."
   ]
  },
  {
   "cell_type": "code",
   "execution_count": 8,
   "metadata": {
    "scrolled": true
   },
   "outputs": [
    {
     "name": "stdout",
     "output_type": "stream",
     "text": [
      "150/150 [==============================] - 1s     \n",
      "\n",
      "Loss = 0.0738357734183\n",
      "Test Accuracy = 0.980000003974\n"
     ]
    }
   ],
   "source": [
    "### START CODE HERE ### (1 line)\n",
    "preds = happyModel.evaluate(x = X_test, y = Y_test)\n",
    "### END CODE HERE ###\n",
    "print()\n",
    "print (\"Loss = \" + str(preds[0]))\n",
    "print (\"Test Accuracy = \" + str(preds[1]))"
   ]
  },
  {
   "cell_type": "markdown",
   "metadata": {},
   "source": [
    "If your `happyModel()` function worked, you should have observed much better than random-guessing (50%) accuracy on the train and test sets.\n",
    "\n",
    "To give you a point of comparison, our model gets around **95% test accuracy in 40 epochs** (and 99% train accuracy) with a mini batch size of 16 and \"adam\" optimizer. But our model gets decent accuracy after just 2-5 epochs, so if you're comparing different models you can also train a variety of models on just a few epochs and see how they compare. \n",
    "\n",
    "If you have not yet achieved a very good accuracy (let's say more than 80%), here're some things you can play around with to try to achieve it:\n",
    "\n",
    "- Try using blocks of CONV->BATCHNORM->RELU such as:\n",
    "```python\n",
    "X = Conv2D(32, (3, 3), strides = (1, 1), name = 'conv0')(X)\n",
    "X = BatchNormalization(axis = 3, name = 'bn0')(X)\n",
    "X = Activation('relu')(X)\n",
    "```\n",
    "until your height and width dimensions are quite low and your number of channels quite large (≈32 for example). You are encoding useful information in a volume with a lot of channels. You can then flatten the volume and use a fully-connected layer.\n",
    "- You can use MAXPOOL after such blocks. It will help you lower the dimension in height and width.\n",
    "- Change your optimizer. We find Adam works well. \n",
    "- If the model is struggling to run and you get memory issues, lower your batch_size (12 is usually a good compromise)\n",
    "- Run on more epochs, until you see the train accuracy plateauing. \n",
    "\n",
    "Even if you have achieved a good accuracy, please feel free to keep playing with your model to try to get even better results. \n",
    "\n",
    "**Note**: If you perform hyperparameter tuning on your model, the test set actually becomes a dev set, and your model might end up overfitting to the test (dev) set. But just for the purpose of this assignment, we won't worry about that here.\n"
   ]
  },
  {
   "cell_type": "markdown",
   "metadata": {},
   "source": [
    "## 3 - Conclusion\n",
    "\n",
    "Congratulations, you have solved the Happy House challenge! \n",
    "\n",
    "Now, you just need to link this model to the front-door camera of your house. We unfortunately won't go into the details of how to do that here. "
   ]
  },
  {
   "cell_type": "markdown",
   "metadata": {},
   "source": [
    "<font color='blue'>\n",
    "**What we would like you to remember from this assignment:**\n",
    "- Keras is a tool we recommend for rapid prototyping. It allows you to quickly try out different model architectures. Are there any applications of deep learning to your daily life that you'd like to implement using Keras? \n",
    "- Remember how to code a model in Keras and the four steps leading to the evaluation of your model on the test set. Create->Compile->Fit/Train->Evaluate/Test."
   ]
  },
  {
   "cell_type": "markdown",
   "metadata": {},
   "source": [
    "## 4 - Test with your own image (Optional)\n",
    "\n",
    "Congratulations on finishing this assignment. You can now take a picture of your face and see if you could enter the Happy House. To do that:\n",
    "    1. Click on \"File\" in the upper bar of this notebook, then click \"Open\" to go on your Coursera Hub.\n",
    "    2. Add your image to this Jupyter Notebook's directory, in the \"images\" folder\n",
    "    3. Write your image's name in the following code\n",
    "    4. Run the code and check if the algorithm is right (0 is unhappy, 1 is happy)!\n",
    "    \n",
    "The training/test sets were quite similar; for example, all the pictures were taken against the same background (since a front door camera is always mounted in the same position). This makes the problem easier, but a model trained on this data may or may not work on your own data. But feel free to give it a try! "
   ]
  },
  {
   "cell_type": "code",
   "execution_count": 13,
   "metadata": {},
   "outputs": [
    {
     "name": "stdout",
     "output_type": "stream",
     "text": [
      "[[ 1.]]\n"
     ]
    },
    {
     "data": {
      "image/png": "[encoded data removed]",
      "text/plain": [
       "<matplotlib.figure.Figure at 0x7f58c864fc50>"
      ]
     },
     "metadata": {},
     "output_type": "display_data"
    }
   ],
   "source": [
    "### START CODE HERE ###\n",
    "img_path = 'images/happy_GF.png'\n",
    "### END CODE HERE ###\n",
    "img = image.load_img(img_path, target_size=(64, 64))\n",
    "imshow(img)\n",
    "\n",
    "x = image.img_to_array(img)\n",
    "x = np.expand_dims(x, axis=0)\n",
    "x = preprocess_input(x)\n",
    "\n",
    "print(happyModel.predict(x))"
   ]
  },
  {
   "cell_type": "code",
   "execution_count": 14,
   "metadata": {},
   "outputs": [
    {
     "name": "stdout",
     "output_type": "stream",
     "text": [
      "[[ 1.]]\n"
     ]
    },
    {
     "data": {
      "image/png": "[encoded data removed]",
      "text/plain": [
       "<matplotlib.figure.Figure at 0x7f58e4527dd8>"
      ]
     },
     "metadata": {},
     "output_type": "display_data"
    }
   ],
   "source": [
    "### START CODE HERE ###\n",
    "img_path = 'images/happy_GF.png'\n",
    "### END CODE HERE ###\n",
    "img = image.load_img(img_path, target_size=(64, 64))\n",
    "img = image.flip_axis(img, 1)\n",
    "imshow(img)\n",
    "\n",
    "x = image.img_to_array(img)\n",
    "x = np.expand_dims(x, axis=0)\n",
    "x = preprocess_input(x)\n",
    "\n",
    "print(happyModel.predict(x))"
   ]
  },
  {
   "cell_type": "markdown",
   "metadata": {},
   "source": [
    "## 5 - Other useful functions in Keras (Optional)\n",
    "\n",
    "Two other basic features of Keras that you'll find useful are:\n",
    "- `model.summary()`: prints the details of your layers in a table with the sizes of its inputs/outputs\n",
    "- `plot_model()`: plots your graph in a nice layout. You can even save it as \".png\" using SVG() if you'd like to share it on social media ;). It is saved in \"File\" then \"Open...\" in the upper bar of the notebook.\n",
    "\n",
    "Run the following code."
   ]
  },
  {
   "cell_type": "code",
   "execution_count": 11,
   "metadata": {
    "scrolled": false
   },
   "outputs": [
    {
     "name": "stdout",
     "output_type": "stream",
     "text": [
      "_________________________________________________________________\n",
      "Layer (type)                 Output Shape              Param #   \n",
      "=================================================================\n",
      "input_1 (InputLayer)         (None, 64, 64, 3)         0         \n",
      "_________________________________________________________________\n",
      "conv0 (Conv2D)               (None, 64, 64, 16)        1216      \n",
      "_________________________________________________________________\n",
      "bn0 (BatchNormalization)     (None, 64, 64, 16)        64        \n",
      "_________________________________________________________________\n",
      "activation_1 (Activation)    (None, 64, 64, 16)        0         \n",
      "_________________________________________________________________\n",
      "max_pool0 (MaxPooling2D)     (None, 32, 32, 16)        0         \n",
      "_________________________________________________________________\n",
      "conv1 (Conv2D)               (None, 32, 32, 32)        12832     \n",
      "_________________________________________________________________\n",
      "bn1 (BatchNormalization)     (None, 32, 32, 32)        128       \n",
      "_________________________________________________________________\n",
      "activation_2 (Activation)    (None, 32, 32, 32)        0         \n",
      "_________________________________________________________________\n",
      "max_pool1 (MaxPooling2D)     (None, 16, 16, 32)        0         \n",
      "_________________________________________________________________\n",
      "flatten_1 (Flatten)          (None, 8192)              0         \n",
      "_________________________________________________________________\n",
      "dropout_1 (Dropout)          (None, 8192)              0         \n",
      "_________________________________________________________________\n",
      "fc0 (Dense)                  (None, 16)                131088    \n",
      "_________________________________________________________________\n",
      "dropout_2 (Dropout)          (None, 16)                0         \n",
      "_________________________________________________________________\n",
      "fc1 (Dense)                  (None, 1)                 17        \n",
      "=================================================================\n",
      "Total params: 145,345\n",
      "Trainable params: 145,249\n",
      "Non-trainable params: 96\n",
      "_________________________________________________________________\n"
     ]
    }
   ],
   "source": [
    "happyModel.summary()"
   ]
  },
  {
   "cell_type": "code",
   "execution_count": 12,
   "metadata": {},
   "outputs": [
    {
     "data": {
      "image/svg+xml": [
       "<svg height=\"994pt\" viewBox=\"0.00 0.00 178.00 994.00\" width=\"178pt\" xmlns=\"http://www.w3.org/2000/svg\" xmlns:xlink=\"http://www.w3.org/1999/xlink\">\n",
       "<g class=\"graph\" id=\"graph0\" transform=\"scale(1 1) rotate(0) translate(4 990)\">\n",
       "<title>G</title>\n",
       "<polygon fill=\"white\" points=\"-4,4 -4,-990 174,-990 174,4 -4,4\" stroke=\"none\"/>\n",
       "<!-- 140019991266080 -->\n",
       "<g class=\"node\" id=\"node1\"><title>140019991266080</title>\n",
       "<polygon fill=\"none\" points=\"22,-949.5 22,-985.5 148,-985.5 148,-949.5 22,-949.5\" stroke=\"black\"/>\n",
       "<text font-family=\"Times,serif\" font-size=\"14.00\" text-anchor=\"middle\" x=\"85\" y=\"-963.8\">input_1: InputLayer</text>\n",
       "</g>\n",
       "<!-- 140019761824264 -->\n",
       "<g class=\"node\" id=\"node2\"><title>140019761824264</title>\n",
       "<polygon fill=\"none\" points=\"32.5,-876.5 32.5,-912.5 137.5,-912.5 137.5,-876.5 32.5,-876.5\" stroke=\"black\"/>\n",
       "<text font-family=\"Times,serif\" font-size=\"14.00\" text-anchor=\"middle\" x=\"85\" y=\"-890.8\">conv0: Conv2D</text>\n",
       "</g>\n",
       "<!-- 140019991266080&#45;&gt;140019761824264 -->\n",
       "<g class=\"edge\" id=\"edge1\"><title>140019991266080-&gt;140019761824264</title>\n",
       "<path d=\"M85,-949.313C85,-941.289 85,-931.547 85,-922.569\" fill=\"none\" stroke=\"black\"/>\n",
       "<polygon fill=\"black\" points=\"88.5001,-922.529 85,-912.529 81.5001,-922.529 88.5001,-922.529\" stroke=\"black\"/>\n",
       "</g>\n",
       "<!-- 140019761823872 -->\n",
       "<g class=\"node\" id=\"node3\"><title>140019761823872</title>\n",
       "<polygon fill=\"none\" points=\"8,-803.5 8,-839.5 162,-839.5 162,-803.5 8,-803.5\" stroke=\"black\"/>\n",
       "<text font-family=\"Times,serif\" font-size=\"14.00\" text-anchor=\"middle\" x=\"85\" y=\"-817.8\">bn0: BatchNormalization</text>\n",
       "</g>\n",
       "<!-- 140019761824264&#45;&gt;140019761823872 -->\n",
       "<g class=\"edge\" id=\"edge2\"><title>140019761824264-&gt;140019761823872</title>\n",
       "<path d=\"M85,-876.313C85,-868.289 85,-858.547 85,-849.569\" fill=\"none\" stroke=\"black\"/>\n",
       "<polygon fill=\"black\" points=\"88.5001,-849.529 85,-839.529 81.5001,-849.529 88.5001,-849.529\" stroke=\"black\"/>\n",
       "</g>\n",
       "<!-- 140019761826504 -->\n",
       "<g class=\"node\" id=\"node4\"><title>140019761826504</title>\n",
       "<polygon fill=\"none\" points=\"11.5,-730.5 11.5,-766.5 158.5,-766.5 158.5,-730.5 11.5,-730.5\" stroke=\"black\"/>\n",
       "<text font-family=\"Times,serif\" font-size=\"14.00\" text-anchor=\"middle\" x=\"85\" y=\"-744.8\">activation_1: Activation</text>\n",
       "</g>\n",
       "<!-- 140019761823872&#45;&gt;140019761826504 -->\n",
       "<g class=\"edge\" id=\"edge3\"><title>140019761823872-&gt;140019761826504</title>\n",
       "<path d=\"M85,-803.313C85,-795.289 85,-785.547 85,-776.569\" fill=\"none\" stroke=\"black\"/>\n",
       "<polygon fill=\"black\" points=\"88.5001,-776.529 85,-766.529 81.5001,-776.529 88.5001,-776.529\" stroke=\"black\"/>\n",
       "</g>\n",
       "<!-- 140019761804848 -->\n",
       "<g class=\"node\" id=\"node5\"><title>140019761804848</title>\n",
       "<polygon fill=\"none\" points=\"0,-657.5 0,-693.5 170,-693.5 170,-657.5 0,-657.5\" stroke=\"black\"/>\n",
       "<text font-family=\"Times,serif\" font-size=\"14.00\" text-anchor=\"middle\" x=\"85\" y=\"-671.8\">max_pool0: MaxPooling2D</text>\n",
       "</g>\n",
       "<!-- 140019761826504&#45;&gt;140019761804848 -->\n",
       "<g class=\"edge\" id=\"edge4\"><title>140019761826504-&gt;140019761804848</title>\n",
       "<path d=\"M85,-730.313C85,-722.289 85,-712.547 85,-703.569\" fill=\"none\" stroke=\"black\"/>\n",
       "<polygon fill=\"black\" points=\"88.5001,-703.529 85,-693.529 81.5001,-703.529 88.5001,-703.529\" stroke=\"black\"/>\n",
       "</g>\n",
       "<!-- 140019761582432 -->\n",
       "<g class=\"node\" id=\"node6\"><title>140019761582432</title>\n",
       "<polygon fill=\"none\" points=\"32.5,-584.5 32.5,-620.5 137.5,-620.5 137.5,-584.5 32.5,-584.5\" stroke=\"black\"/>\n",
       "<text font-family=\"Times,serif\" font-size=\"14.00\" text-anchor=\"middle\" x=\"85\" y=\"-598.8\">conv1: Conv2D</text>\n",
       "</g>\n",
       "<!-- 140019761804848&#45;&gt;140019761582432 -->\n",
       "<g class=\"edge\" id=\"edge5\"><title>140019761804848-&gt;140019761582432</title>\n",
       "<path d=\"M85,-657.313C85,-649.289 85,-639.547 85,-630.569\" fill=\"none\" stroke=\"black\"/>\n",
       "<polygon fill=\"black\" points=\"88.5001,-630.529 85,-620.529 81.5001,-630.529 88.5001,-630.529\" stroke=\"black\"/>\n",
       "</g>\n",
       "<!-- 140019761326120 -->\n",
       "<g class=\"node\" id=\"node7\"><title>140019761326120</title>\n",
       "<polygon fill=\"none\" points=\"8,-511.5 8,-547.5 162,-547.5 162,-511.5 8,-511.5\" stroke=\"black\"/>\n",
       "<text font-family=\"Times,serif\" font-size=\"14.00\" text-anchor=\"middle\" x=\"85\" y=\"-525.8\">bn1: BatchNormalization</text>\n",
       "</g>\n",
       "<!-- 140019761582432&#45;&gt;140019761326120 -->\n",
       "<g class=\"edge\" id=\"edge6\"><title>140019761582432-&gt;140019761326120</title>\n",
       "<path d=\"M85,-584.313C85,-576.289 85,-566.547 85,-557.569\" fill=\"none\" stroke=\"black\"/>\n",
       "<polygon fill=\"black\" points=\"88.5001,-557.529 85,-547.529 81.5001,-557.529 88.5001,-557.529\" stroke=\"black\"/>\n",
       "</g>\n",
       "<!-- 140019760994064 -->\n",
       "<g class=\"node\" id=\"node8\"><title>140019760994064</title>\n",
       "<polygon fill=\"none\" points=\"11.5,-438.5 11.5,-474.5 158.5,-474.5 158.5,-438.5 11.5,-438.5\" stroke=\"black\"/>\n",
       "<text font-family=\"Times,serif\" font-size=\"14.00\" text-anchor=\"middle\" x=\"85\" y=\"-452.8\">activation_2: Activation</text>\n",
       "</g>\n",
       "<!-- 140019761326120&#45;&gt;140019760994064 -->\n",
       "<g class=\"edge\" id=\"edge7\"><title>140019761326120-&gt;140019760994064</title>\n",
       "<path d=\"M85,-511.313C85,-503.289 85,-493.547 85,-484.569\" fill=\"none\" stroke=\"black\"/>\n",
       "<polygon fill=\"black\" points=\"88.5001,-484.529 85,-474.529 81.5001,-484.529 88.5001,-484.529\" stroke=\"black\"/>\n",
       "</g>\n",
       "<!-- 140019760581208 -->\n",
       "<g class=\"node\" id=\"node9\"><title>140019760581208</title>\n",
       "<polygon fill=\"none\" points=\"0,-365.5 0,-401.5 170,-401.5 170,-365.5 0,-365.5\" stroke=\"black\"/>\n",
       "<text font-family=\"Times,serif\" font-size=\"14.00\" text-anchor=\"middle\" x=\"85\" y=\"-379.8\">max_pool1: MaxPooling2D</text>\n",
       "</g>\n",
       "<!-- 140019760994064&#45;&gt;140019760581208 -->\n",
       "<g class=\"edge\" id=\"edge8\"><title>140019760994064-&gt;140019760581208</title>\n",
       "<path d=\"M85,-438.313C85,-430.289 85,-420.547 85,-411.569\" fill=\"none\" stroke=\"black\"/>\n",
       "<polygon fill=\"black\" points=\"88.5001,-411.529 85,-401.529 81.5001,-411.529 88.5001,-411.529\" stroke=\"black\"/>\n",
       "</g>\n",
       "<!-- 140019760652184 -->\n",
       "<g class=\"node\" id=\"node10\"><title>140019760652184</title>\n",
       "<polygon fill=\"none\" points=\"30.5,-292.5 30.5,-328.5 139.5,-328.5 139.5,-292.5 30.5,-292.5\" stroke=\"black\"/>\n",
       "<text font-family=\"Times,serif\" font-size=\"14.00\" text-anchor=\"middle\" x=\"85\" y=\"-306.8\">flatten_1: Flatten</text>\n",
       "</g>\n",
       "<!-- 140019760581208&#45;&gt;140019760652184 -->\n",
       "<g class=\"edge\" id=\"edge9\"><title>140019760581208-&gt;140019760652184</title>\n",
       "<path d=\"M85,-365.313C85,-357.289 85,-347.547 85,-338.569\" fill=\"none\" stroke=\"black\"/>\n",
       "<polygon fill=\"black\" points=\"88.5001,-338.529 85,-328.529 81.5001,-338.529 88.5001,-338.529\" stroke=\"black\"/>\n",
       "</g>\n",
       "<!-- 140019760731192 -->\n",
       "<g class=\"node\" id=\"node11\"><title>140019760731192</title>\n",
       "<polygon fill=\"none\" points=\"20,-219.5 20,-255.5 150,-255.5 150,-219.5 20,-219.5\" stroke=\"black\"/>\n",
       "<text font-family=\"Times,serif\" font-size=\"14.00\" text-anchor=\"middle\" x=\"85\" y=\"-233.8\">dropout_1: Dropout</text>\n",
       "</g>\n",
       "<!-- 140019760652184&#45;&gt;140019760731192 -->\n",
       "<g class=\"edge\" id=\"edge10\"><title>140019760652184-&gt;140019760731192</title>\n",
       "<path d=\"M85,-292.313C85,-284.289 85,-274.547 85,-265.569\" fill=\"none\" stroke=\"black\"/>\n",
       "<polygon fill=\"black\" points=\"88.5001,-265.529 85,-255.529 81.5001,-265.529 88.5001,-265.529\" stroke=\"black\"/>\n",
       "</g>\n",
       "<!-- 140019760493680 -->\n",
       "<g class=\"node\" id=\"node12\"><title>140019760493680</title>\n",
       "<polygon fill=\"none\" points=\"47,-146.5 47,-182.5 123,-182.5 123,-146.5 47,-146.5\" stroke=\"black\"/>\n",
       "<text font-family=\"Times,serif\" font-size=\"14.00\" text-anchor=\"middle\" x=\"85\" y=\"-160.8\">fc0: Dense</text>\n",
       "</g>\n",
       "<!-- 140019760731192&#45;&gt;140019760493680 -->\n",
       "<g class=\"edge\" id=\"edge11\"><title>140019760731192-&gt;140019760493680</title>\n",
       "<path d=\"M85,-219.313C85,-211.289 85,-201.547 85,-192.569\" fill=\"none\" stroke=\"black\"/>\n",
       "<polygon fill=\"black\" points=\"88.5001,-192.529 85,-182.529 81.5001,-192.529 88.5001,-192.529\" stroke=\"black\"/>\n",
       "</g>\n",
       "<!-- 140019760149280 -->\n",
       "<g class=\"node\" id=\"node13\"><title>140019760149280</title>\n",
       "<polygon fill=\"none\" points=\"20,-73.5 20,-109.5 150,-109.5 150,-73.5 20,-73.5\" stroke=\"black\"/>\n",
       "<text font-family=\"Times,serif\" font-size=\"14.00\" text-anchor=\"middle\" x=\"85\" y=\"-87.8\">dropout_2: Dropout</text>\n",
       "</g>\n",
       "<!-- 140019760493680&#45;&gt;140019760149280 -->\n",
       "<g class=\"edge\" id=\"edge12\"><title>140019760493680-&gt;140019760149280</title>\n",
       "<path d=\"M85,-146.313C85,-138.289 85,-128.547 85,-119.569\" fill=\"none\" stroke=\"black\"/>\n",
       "<polygon fill=\"black\" points=\"88.5001,-119.529 85,-109.529 81.5001,-119.529 88.5001,-119.529\" stroke=\"black\"/>\n",
       "</g>\n",
       "<!-- 140019759819016 -->\n",
       "<g class=\"node\" id=\"node14\"><title>140019759819016</title>\n",
       "<polygon fill=\"none\" points=\"47,-0.5 47,-36.5 123,-36.5 123,-0.5 47,-0.5\" stroke=\"black\"/>\n",
       "<text font-family=\"Times,serif\" font-size=\"14.00\" text-anchor=\"middle\" x=\"85\" y=\"-14.8\">fc1: Dense</text>\n",
       "</g>\n",
       "<!-- 140019760149280&#45;&gt;140019759819016 -->\n",
       "<g class=\"edge\" id=\"edge13\"><title>140019760149280-&gt;140019759819016</title>\n",
       "<path d=\"M85,-73.3129C85,-65.2895 85,-55.5475 85,-46.5691\" fill=\"none\" stroke=\"black\"/>\n",
       "<polygon fill=\"black\" points=\"88.5001,-46.5288 85,-36.5288 81.5001,-46.5289 88.5001,-46.5288\" stroke=\"black\"/>\n",
       "</g>\n",
       "</g>\n",
       "</svg>"
      ],
      "text/plain": [
       "<IPython.core.display.SVG object>"
      ]
     },
     "execution_count": 12,
     "metadata": {},
     "output_type": "execute_result"
    }
   ],
   "source": [
    "plot_model(happyModel, to_file='HappyModel.png')\n",
    "SVG(model_to_dot(happyModel).create(prog='dot', format='svg'))"
   ]
  },
  {
   "cell_type": "code",
   "execution_count": null,
   "metadata": {
    "collapsed": true
   },
   "outputs": [],
   "source": []
  }
 ],
 "metadata": {
  "kernelspec": {
   "display_name": "Python 3",
   "language": "python",
   "name": "python3"
  },
  "language_info": {
   "codemirror_mode": {
    "name": "ipython",
    "version": 3
   },
   "file_extension": ".py",
   "mimetype": "text/x-python",
   "name": "python",
   "nbconvert_exporter": "python",
   "pygments_lexer": "ipython3",
   "version": "3.6.0"
  }
 },
 "nbformat": 4,
 "nbformat_minor": 2
}
